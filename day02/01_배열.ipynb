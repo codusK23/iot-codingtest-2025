{
 "cells": [
  {
   "cell_type": "markdown",
   "id": "3877fb4a",
   "metadata": {},
   "source": [
    "## 배열\n",
    "### 배열 선언\n",
    "#### 일반적 배열 선언"
   ]
  },
  {
   "cell_type": "code",
   "execution_count": 1,
   "id": "35a0758a",
   "metadata": {},
   "outputs": [
    {
     "data": {
      "text/plain": [
       "[0, 0, 0, 0, 0, 0]"
      ]
     },
     "execution_count": 1,
     "metadata": {},
     "output_type": "execute_result"
    }
   ],
   "source": [
    "arr1 = [0, 0, 0, 0, 0, 0]\n",
    "arr1"
   ]
  },
  {
   "cell_type": "code",
   "execution_count": 2,
   "id": "8bb313b7",
   "metadata": {},
   "outputs": [
    {
     "data": {
      "text/plain": [
       "[0, 0, 0, 0, 0, 0]"
      ]
     },
     "execution_count": 2,
     "metadata": {},
     "output_type": "execute_result"
    }
   ],
   "source": [
    "arr2 = [0] * 6\n",
    "arr2"
   ]
  },
  {
   "cell_type": "markdown",
   "id": "7852657d",
   "metadata": {},
   "source": [
    "#### 리스트 생성자 사용"
   ]
  },
  {
   "cell_type": "code",
   "execution_count": 3,
   "id": "e7b8bad5",
   "metadata": {},
   "outputs": [
    {
     "data": {
      "text/plain": [
       "[0, 1, 2, 3, 4, 5]"
      ]
     },
     "execution_count": 3,
     "metadata": {},
     "output_type": "execute_result"
    }
   ],
   "source": [
    "arr3 = list(range(6))\n",
    "arr3"
   ]
  },
  {
   "cell_type": "markdown",
   "id": "cd511737",
   "metadata": {},
   "source": [
    "#### 리스트 컨프리헨션"
   ]
  },
  {
   "cell_type": "code",
   "execution_count": 4,
   "id": "bcdc5536",
   "metadata": {},
   "outputs": [
    {
     "data": {
      "text/plain": [
       "[0, 1, 2, 3, 4, 5]"
      ]
     },
     "execution_count": 4,
     "metadata": {},
     "output_type": "execute_result"
    }
   ],
   "source": [
    "arr4 = [x for x in range(6)]\n",
    "arr4"
   ]
  },
  {
   "cell_type": "code",
   "execution_count": 5,
   "id": "4d1a4241",
   "metadata": {},
   "outputs": [
    {
     "data": {
      "text/plain": [
       "[0, 0, 0, 0, 0, 0]"
      ]
     },
     "execution_count": 5,
     "metadata": {},
     "output_type": "execute_result"
    }
   ],
   "source": [
    "# 사용하지 않는 변수하면 _ 로 사용\n",
    "arr5 = [0 for _ in range(6)]\n",
    "arr5"
   ]
  },
  {
   "cell_type": "code",
   "execution_count": 6,
   "id": "7b7d9a00",
   "metadata": {},
   "outputs": [
    {
     "data": {
      "text/plain": [
       "15"
      ]
     },
     "execution_count": 6,
     "metadata": {},
     "output_type": "execute_result"
    }
   ],
   "source": [
    "arr4[0] + arr4[1] + arr4[2] + arr4[3] + arr4[4] + arr4[5]"
   ]
  },
  {
   "cell_type": "markdown",
   "id": "74f8eba9",
   "metadata": {},
   "source": [
    "#### 2차원 배열"
   ]
  },
  {
   "cell_type": "code",
   "execution_count": 7,
   "id": "da28b7d7",
   "metadata": {},
   "outputs": [
    {
     "data": {
      "text/plain": [
       "[[1, 2, 3, 4], [5, 6, 7, 8], [9, 10, 11, 12]]"
      ]
     },
     "execution_count": 7,
     "metadata": {},
     "output_type": "execute_result"
    }
   ],
   "source": [
    "# 선언\n",
    "arr6 = [[1, 2, 3, 4], [5, 6, 7, 8], [9, 10, 11, 12]]    # 전체 3x4 배열\n",
    "arr6"
   ]
  },
  {
   "cell_type": "code",
   "execution_count": 8,
   "id": "62a06a0a",
   "metadata": {},
   "outputs": [
    {
     "data": {
      "text/plain": [
       "[1, 2, 3, 4]"
      ]
     },
     "execution_count": 8,
     "metadata": {},
     "output_type": "execute_result"
    }
   ],
   "source": [
    "arr6[0] #[1, 2, 3, 4] 0번 행 값들 전부"
   ]
  },
  {
   "cell_type": "code",
   "execution_count": 9,
   "id": "a46c88b8",
   "metadata": {},
   "outputs": [
    {
     "data": {
      "text/plain": [
       "4"
      ]
     },
     "execution_count": 9,
     "metadata": {},
     "output_type": "execute_result"
    }
   ],
   "source": [
    "arr6[0][3]  # 0행 3열 값을 표시하라"
   ]
  },
  {
   "cell_type": "code",
   "execution_count": 10,
   "id": "8f11b955",
   "metadata": {},
   "outputs": [],
   "source": [
    "arr6[2][3] = 19"
   ]
  },
  {
   "cell_type": "code",
   "execution_count": 11,
   "id": "61f39559",
   "metadata": {},
   "outputs": [
    {
     "data": {
      "text/plain": [
       "[[1, 2, 3, 4], [5, 6, 7, 8], [9, 10, 11, 19]]"
      ]
     },
     "execution_count": 11,
     "metadata": {},
     "output_type": "execute_result"
    }
   ],
   "source": [
    "arr6"
   ]
  },
  {
   "cell_type": "markdown",
   "id": "8aaa4781",
   "metadata": {},
   "source": [
    "#### 리스트 컨프리헨션"
   ]
  },
  {
   "cell_type": "code",
   "execution_count": 12,
   "id": "7089adb5",
   "metadata": {},
   "outputs": [
    {
     "data": {
      "text/plain": [
       "[[1, 2, 3, 4], [5, 6, 7, 8], [9, 10, 11, 12]]"
      ]
     },
     "execution_count": 12,
     "metadata": {},
     "output_type": "execute_result"
    }
   ],
   "source": [
    "arr7 = [[x for x in range(1 + y * 4, 5 + y * 4)] for y in range(3)]\n",
    "arr7"
   ]
  },
  {
   "cell_type": "code",
   "execution_count": 13,
   "id": "a06dba0b",
   "metadata": {},
   "outputs": [
    {
     "data": {
      "text/plain": [
       "[1, 2, 3, 4]"
      ]
     },
     "execution_count": 13,
     "metadata": {},
     "output_type": "execute_result"
    }
   ],
   "source": [
    "[x for x in range(1, 5)]"
   ]
  },
  {
   "cell_type": "markdown",
   "id": "b854eebf",
   "metadata": {},
   "source": [
    "### 배열 시간복잡도\n",
    "\n",
    "- 배열 요소에 접근하는 시간복잡도 : $0(1)$. 소요시간이 전혀 걸리지 않음\n",
    "- 배열에 맨 처음이나 중간에 삽입하는 시간복잡도 : $0(n)$\n",
    "- 배열에 맨 처음이나 중간에 삭제하는 시간복잡도 : $0(n)$\n",
    "\n",
    "#### 배열 선택 시 고려할 점\n",
    "\n",
    "- 할당할 메모리 크기 확인. 1차원 배열 최대 1000만개, 2차원 배열 최대 900만개(3000*3000)\n",
    "- 중간에 데이터 삽입이 많으면 시간복잡도가 높아짐\n"
   ]
  },
  {
   "cell_type": "markdown",
   "id": "3007189a",
   "metadata": {},
   "source": [
    "### 자주 사용하는 리스트 문법\n",
    "\n",
    "#### append() 사용"
   ]
  },
  {
   "cell_type": "code",
   "execution_count": 14,
   "id": "46625fd0",
   "metadata": {},
   "outputs": [],
   "source": [
    "my_list = [1, 2, 3]\n",
    "my_list.append(4)"
   ]
  },
  {
   "cell_type": "code",
   "execution_count": 15,
   "id": "202c3e43",
   "metadata": {},
   "outputs": [
    {
     "data": {
      "text/plain": [
       "[1, 2, 3, 4]"
      ]
     },
     "execution_count": 15,
     "metadata": {},
     "output_type": "execute_result"
    }
   ],
   "source": [
    "my_list"
   ]
  },
  {
   "cell_type": "markdown",
   "id": "40419ff4",
   "metadata": {},
   "source": [
    "#### + 연산자 사용"
   ]
  },
  {
   "cell_type": "code",
   "execution_count": 16,
   "id": "bb85e2bf",
   "metadata": {},
   "outputs": [
    {
     "data": {
      "text/plain": [
       "[1, 2, 3, 4, 5, 6]"
      ]
     },
     "execution_count": 16,
     "metadata": {},
     "output_type": "execute_result"
    }
   ],
   "source": [
    "my_list = my_list + [5, 6]\n",
    "my_list"
   ]
  },
  {
   "cell_type": "markdown",
   "id": "ec4e2bf2",
   "metadata": {},
   "source": [
    "#### insert() 함수 사용"
   ]
  },
  {
   "cell_type": "code",
   "execution_count": 17,
   "id": "480e0f0c",
   "metadata": {},
   "outputs": [
    {
     "data": {
      "text/plain": [
       "[1, 2, 3, 999, 4, 5, 6]"
      ]
     },
     "execution_count": 17,
     "metadata": {},
     "output_type": "execute_result"
    }
   ],
   "source": [
    "my_list.insert(3, 999)\n",
    "my_list"
   ]
  },
  {
   "cell_type": "markdown",
   "id": "56d2ab84",
   "metadata": {},
   "source": [
    "#### pop() 함수로 데이터 추출"
   ]
  },
  {
   "cell_type": "code",
   "execution_count": 18,
   "id": "4394be1e",
   "metadata": {},
   "outputs": [
    {
     "data": {
      "text/plain": [
       "6"
      ]
     },
     "execution_count": 18,
     "metadata": {},
     "output_type": "execute_result"
    }
   ],
   "source": [
    "my_list.pop()"
   ]
  },
  {
   "cell_type": "code",
   "execution_count": 19,
   "id": "55e58f9c",
   "metadata": {},
   "outputs": [
    {
     "data": {
      "text/plain": [
       "[1, 2, 3, 999, 4, 5]"
      ]
     },
     "execution_count": 19,
     "metadata": {},
     "output_type": "execute_result"
    }
   ],
   "source": [
    "my_list"
   ]
  },
  {
   "cell_type": "code",
   "execution_count": 20,
   "id": "7969566c",
   "metadata": {},
   "outputs": [
    {
     "data": {
      "text/plain": [
       "999"
      ]
     },
     "execution_count": 20,
     "metadata": {},
     "output_type": "execute_result"
    }
   ],
   "source": [
    "my_list.pop(3)"
   ]
  },
  {
   "cell_type": "code",
   "execution_count": 21,
   "id": "97e02e59",
   "metadata": {},
   "outputs": [
    {
     "data": {
      "text/plain": [
       "[1, 2, 3, 4, 5]"
      ]
     },
     "execution_count": 21,
     "metadata": {},
     "output_type": "execute_result"
    }
   ],
   "source": [
    "my_list"
   ]
  },
  {
   "cell_type": "markdown",
   "id": "623fc56d",
   "metadata": {},
   "source": [
    "#### remove()로 데이터 삭제. 값으로 삭제"
   ]
  },
  {
   "cell_type": "code",
   "execution_count": 22,
   "id": "92d5ea25",
   "metadata": {},
   "outputs": [],
   "source": [
    "my_list.remove(3)"
   ]
  },
  {
   "cell_type": "code",
   "execution_count": 23,
   "id": "ed769716",
   "metadata": {},
   "outputs": [
    {
     "data": {
      "text/plain": [
       "[1, 2, 4, 5]"
      ]
     },
     "execution_count": 23,
     "metadata": {},
     "output_type": "execute_result"
    }
   ],
   "source": [
    "my_list"
   ]
  },
  {
   "cell_type": "markdown",
   "id": "7a4b9172",
   "metadata": {},
   "source": [
    "#### 많이 사용하는 문법"
   ]
  },
  {
   "cell_type": "code",
   "execution_count": 24,
   "id": "eaed0d5a",
   "metadata": {},
   "outputs": [],
   "source": [
    "fruits = ['apple', 'banana', 'cherry', 'apple', 'orange', 'banana', 'kiwi']"
   ]
  },
  {
   "cell_type": "code",
   "execution_count": 25,
   "id": "ed8ab837",
   "metadata": {},
   "outputs": [
    {
     "data": {
      "text/plain": [
       "7"
      ]
     },
     "execution_count": 25,
     "metadata": {},
     "output_type": "execute_result"
    }
   ],
   "source": [
    "len(fruits)"
   ]
  },
  {
   "cell_type": "code",
   "execution_count": 26,
   "id": "22b6a6e1",
   "metadata": {},
   "outputs": [
    {
     "data": {
      "text/plain": [
       "1"
      ]
     },
     "execution_count": 26,
     "metadata": {},
     "output_type": "execute_result"
    }
   ],
   "source": [
    "fruits.index('banana')"
   ]
  },
  {
   "cell_type": "code",
   "execution_count": 27,
   "id": "0f4deaff",
   "metadata": {},
   "outputs": [
    {
     "data": {
      "text/plain": [
       "5"
      ]
     },
     "execution_count": 27,
     "metadata": {},
     "output_type": "execute_result"
    }
   ],
   "source": [
    "fruits.index('banana', 2)"
   ]
  },
  {
   "cell_type": "code",
   "execution_count": 28,
   "id": "058d2bf6",
   "metadata": {},
   "outputs": [
    {
     "ename": "ValueError",
     "evalue": "'banana' is not in list",
     "output_type": "error",
     "traceback": [
      "\u001b[1;31m---------------------------------------------------------------------------\u001b[0m",
      "\u001b[1;31mValueError\u001b[0m                                Traceback (most recent call last)",
      "Cell \u001b[1;32mIn[28], line 1\u001b[0m\n\u001b[1;32m----> 1\u001b[0m \u001b[43mfruits\u001b[49m\u001b[38;5;241;43m.\u001b[39;49m\u001b[43mindex\u001b[49m\u001b[43m(\u001b[49m\u001b[38;5;124;43m'\u001b[39;49m\u001b[38;5;124;43mbanana\u001b[39;49m\u001b[38;5;124;43m'\u001b[39;49m\u001b[43m,\u001b[49m\u001b[43m \u001b[49m\u001b[38;5;241;43m6\u001b[39;49m\u001b[43m)\u001b[49m\n",
      "\u001b[1;31mValueError\u001b[0m: 'banana' is not in list"
     ]
    }
   ],
   "source": [
    "fruits.index('banana', 6)"
   ]
  },
  {
   "cell_type": "code",
   "execution_count": 29,
   "id": "085cc0b9",
   "metadata": {},
   "outputs": [],
   "source": [
    "fruits.sort()"
   ]
  },
  {
   "cell_type": "code",
   "execution_count": 30,
   "id": "a3ed6bf3",
   "metadata": {},
   "outputs": [
    {
     "data": {
      "text/plain": [
       "['apple', 'apple', 'banana', 'banana', 'cherry', 'kiwi', 'orange']"
      ]
     },
     "execution_count": 30,
     "metadata": {},
     "output_type": "execute_result"
    }
   ],
   "source": [
    "fruits"
   ]
  },
  {
   "cell_type": "code",
   "execution_count": 31,
   "id": "50380fbd",
   "metadata": {},
   "outputs": [],
   "source": [
    "fruits.sort(reverse=True)"
   ]
  },
  {
   "cell_type": "code",
   "execution_count": 32,
   "id": "26ea0e4e",
   "metadata": {},
   "outputs": [
    {
     "data": {
      "text/plain": [
       "['orange', 'kiwi', 'cherry', 'banana', 'banana', 'apple', 'apple']"
      ]
     },
     "execution_count": 32,
     "metadata": {},
     "output_type": "execute_result"
    }
   ],
   "source": [
    "fruits"
   ]
  },
  {
   "cell_type": "code",
   "execution_count": 33,
   "id": "16641a82",
   "metadata": {},
   "outputs": [
    {
     "data": {
      "text/plain": [
       "2"
      ]
     },
     "execution_count": 33,
     "metadata": {},
     "output_type": "execute_result"
    }
   ],
   "source": [
    "fruits.count('apple')"
   ]
  },
  {
   "cell_type": "markdown",
   "id": "967c1453",
   "metadata": {},
   "source": [
    "### 몸풀기 문제"
   ]
  },
  {
   "cell_type": "markdown",
   "id": "18b7899b",
   "metadata": {},
   "source": [
    "#### 배열 정렬하기\n",
    "\n",
    "|입력|출력|\n",
    "|:--|:--|\n",
    "|[1, -5, 2, 4, 3]|[-5, 1, 2, 3, 4]|\n",
    "|[2, 1, 1, 3, 2, 5, 4]|[1, 1, 2, 2, 3, 4, 5]|\n",
    "|[6, 1, 7]|[1, 6, 7]|"
   ]
  },
  {
   "cell_type": "code",
   "execution_count": 34,
   "id": "86ccf751",
   "metadata": {},
   "outputs": [],
   "source": [
    "def solution(arr):\n",
    "    result = []\n",
    "    return result"
   ]
  },
  {
   "cell_type": "code",
   "execution_count": 35,
   "id": "4675ece4",
   "metadata": {},
   "outputs": [],
   "source": [
    "# 기본 정렬\n",
    "def solution(arr):\n",
    "    arr.sort()\n",
    "    return arr"
   ]
  },
  {
   "cell_type": "code",
   "execution_count": 36,
   "id": "bf251761",
   "metadata": {},
   "outputs": [
    {
     "data": {
      "text/plain": [
       "[1, 6, 7]"
      ]
     },
     "execution_count": 36,
     "metadata": {},
     "output_type": "execute_result"
    }
   ],
   "source": [
    "# arr1 = [1, -5, 2, 4, 3]\n",
    "# arr1 = [2, 1, 1, 3, 2, 5, 4]\n",
    "arr1 = [6, 1, 7]\n",
    "\n",
    "solution(arr1)"
   ]
  },
  {
   "cell_type": "code",
   "execution_count": 37,
   "id": "ad4c5c81",
   "metadata": {},
   "outputs": [],
   "source": [
    "# 원본은 보존하면서 작업\n",
    "def solution(arr):\n",
    "    answer = sorted(arr, reverse=False)\n",
    "    return answer"
   ]
  },
  {
   "cell_type": "code",
   "execution_count": 38,
   "id": "1cefe117",
   "metadata": {},
   "outputs": [
    {
     "data": {
      "text/plain": [
       "[-5, 1, 2, 3, 4]"
      ]
     },
     "execution_count": 38,
     "metadata": {},
     "output_type": "execute_result"
    }
   ],
   "source": [
    "arr1 = [1, -5, 2, 4, 3]\n",
    "# arr1 = [2, 1, 1, 3, 2, 5, 4]\n",
    "# arr1 = [6, 1, 7]\n",
    "\n",
    "solution(arr1)"
   ]
  },
  {
   "cell_type": "markdown",
   "id": "370f5434",
   "metadata": {},
   "source": [
    "#### sort() 함수 사용하지 않고 정렬 알고리즘 구현"
   ]
  },
  {
   "cell_type": "code",
   "execution_count": 47,
   "id": "fbff5c22",
   "metadata": {},
   "outputs": [],
   "source": [
    "import time\n",
    "\n",
    "def bubble_sort(arr):   # 버블정렬\n",
    "    n = len(arr)\n",
    "\n",
    "    for i in range(n):\n",
    "        for j in range(n - i - 1):  # 한 번 돌고나면 맨 처음 요소는 뛰엄 넘고 정렬 계속\n",
    "            if arr[j] > arr[j + 1]:\n",
    "                arr[j], arr[j + 1] = arr[j + 1], arr[j] # 파이썬에서 temp를 만들지 않고 swap가능한 방법\n",
    "\n",
    "    return arr\n",
    "\n",
    "def do_sort(arr):   # sort() 사용\n",
    "    arr.sort()\n",
    "    return arr\n",
    "\n",
    "def measure_time(func, arr):    # 시간 측정 함수\n",
    "    start_time = time.time()    # 함수 시작 시간 저장\n",
    "    result = func(arr)          # 함수 실행\n",
    "    end_time = time.time()      # 함수 종료 시간 저장\n",
    "\n",
    "    return end_time - start_time, result\n",
    "\n",
    "arr = list(range(10000))"
   ]
  },
  {
   "cell_type": "code",
   "execution_count": 48,
   "id": "a0c83f9a",
   "metadata": {},
   "outputs": [],
   "source": [
    "arr.sort(reverse=True)"
   ]
  },
  {
   "cell_type": "markdown",
   "id": "8aad8a0b",
   "metadata": {},
   "source": [
    "##### 버블정렬 시간 측정"
   ]
  },
  {
   "cell_type": "code",
   "execution_count": 49,
   "id": "f9304d26",
   "metadata": {},
   "outputs": [],
   "source": [
    "bubble_time, bubble_result = measure_time(bubble_sort, arr)"
   ]
  },
  {
   "cell_type": "code",
   "execution_count": 50,
   "id": "3ab8627d",
   "metadata": {},
   "outputs": [
    {
     "data": {
      "text/plain": [
       "10000"
      ]
     },
     "execution_count": 50,
     "metadata": {},
     "output_type": "execute_result"
    }
   ],
   "source": [
    "len(bubble_result)"
   ]
  },
  {
   "cell_type": "code",
   "execution_count": 51,
   "id": "dc9d0828",
   "metadata": {},
   "outputs": [
    {
     "data": {
      "text/plain": [
       "'버블 정렬 실행 시간 : 4.9413404465'"
      ]
     },
     "execution_count": 51,
     "metadata": {},
     "output_type": "execute_result"
    }
   ],
   "source": [
    "f'버블 정렬 실행 시간 : {bubble_time:.10f}'"
   ]
  },
  {
   "cell_type": "markdown",
   "id": "c6ccfeae",
   "metadata": {},
   "source": [
    "- 1 ~ 9999까지 정렬된 상태에서 버블 정렬 실행 1.6초 정도 소요\n",
    "- 내림차순으로 역정렬된 상태에서 버블 정렬 실행 4.9초 정도 소요"
   ]
  },
  {
   "cell_type": "markdown",
   "id": "e8ae2342",
   "metadata": {},
   "source": [
    "#### 내장 정렬 시간 측정"
   ]
  },
  {
   "cell_type": "code",
   "execution_count": 52,
   "id": "efefd3cd",
   "metadata": {},
   "outputs": [],
   "source": [
    "arr = list(range(10000))\n",
    "arr.sort(reverse = True)"
   ]
  },
  {
   "cell_type": "code",
   "execution_count": 53,
   "id": "c97327d5",
   "metadata": {},
   "outputs": [],
   "source": [
    "sort_time, sort_result = measure_time(do_sort, arr)"
   ]
  },
  {
   "cell_type": "code",
   "execution_count": 54,
   "id": "ef767dc3",
   "metadata": {},
   "outputs": [
    {
     "data": {
      "text/plain": [
       "'내장 정렬 실행 시간 : 0.0000000000000000000000000000000000000000000000000000000000000000000000'"
      ]
     },
     "execution_count": 54,
     "metadata": {},
     "output_type": "execute_result"
    }
   ],
   "source": [
    "f'내장 정렬 실행 시간 : {sort_time:.70f}'"
   ]
  },
  {
   "cell_type": "markdown",
   "id": "b56f77a6",
   "metadata": {},
   "source": [
    "### 모의 테스트\n",
    "\n",
    "- 공부할 때 사용하는 방법 VS Code. 실제 코테 환경에서는 불가능. 프로그래머스에서 바로 구현(디버깅 불가, 코드 어시스턴스 사용불가)\n",
    "\n",
    "#### 두 개 뽑아서 더하기\n",
    "\n",
    "- https://school.programmers.co.kr/learn/courses/30/lessons/68644"
   ]
  },
  {
   "cell_type": "code",
   "execution_count": 55,
   "id": "0094ed2f",
   "metadata": {},
   "outputs": [],
   "source": [
    "data = [5, 0, 2, 7]"
   ]
  },
  {
   "cell_type": "code",
   "execution_count": 56,
   "id": "14167d94",
   "metadata": {},
   "outputs": [],
   "source": [
    "def solution(numbers):\n",
    "    answer = []         # 빈 배열 미리 생성\n",
    "    # 두 수를 선택해서 모든 경우의 수를 반복문으로 구함\n",
    "\n",
    "    for i in range(len(numbers)):\n",
    "        for j in range(i + 1, len(numbers)):\n",
    "            # i인덱스와 j인덱스의 값을 더해서 answer에 저장\n",
    "\n",
    "            answer.append(numbers[i] + numbers[j])\n",
    "\n",
    "    # 중복값 제거\n",
    "    answer = sorted(set(answer))\n",
    "\n",
    "    return answer"
   ]
  },
  {
   "cell_type": "code",
   "execution_count": 57,
   "id": "16e0bc47",
   "metadata": {},
   "outputs": [
    {
     "data": {
      "text/plain": [
       "[2, 5, 7, 9, 12]"
      ]
     },
     "execution_count": 57,
     "metadata": {},
     "output_type": "execute_result"
    }
   ],
   "source": [
    "solution(data)"
   ]
  },
  {
   "cell_type": "code",
   "execution_count": 58,
   "id": "8558fa8f",
   "metadata": {},
   "outputs": [
    {
     "data": {
      "text/plain": [
       "[2, 3, 4, 5, 6, 7]"
      ]
     },
     "execution_count": 58,
     "metadata": {},
     "output_type": "execute_result"
    }
   ],
   "source": [
    "solution([2, 1, 3, 4, 1])"
   ]
  },
  {
   "cell_type": "markdown",
   "id": "2a771822",
   "metadata": {},
   "source": [
    "#### 방문 길이\n",
    "\n",
    "- https://school.programmers.co.kr/learn/courses/30/lessons/49994"
   ]
  },
  {
   "cell_type": "code",
   "execution_count": 70,
   "id": "03ea478f",
   "metadata": {},
   "outputs": [],
   "source": [
    "# \"ULURRDLLU\"\n",
    "# \"LULLLLLLU\""
   ]
  },
  {
   "cell_type": "code",
   "execution_count": null,
   "id": "b297be81",
   "metadata": {},
   "outputs": [],
   "source": [
    "# 좌표가 맵을 벗어나지 않았는지 확인\n",
    "def is_okay_in_map(nx, ny):\n",
    "    # Python 1.0부터의 기능\n",
    "    # chaining 문법 0 <= x < 11\n",
    "    return 0 <= nx < 11 and 0 <= ny < 11    # 0 ~ 10 사이의 값이 아니면 False\n",
    "\n",
    "# dir : U, D, L, R\n",
    "# 좌표이동 함수\n",
    "def move_position(dir, x, y):\n",
    "    if dir.upper() == 'U':  # UP\n",
    "        nx, ny = x, y + 1\n",
    "    elif dir.upper() == 'D':  # DOWN\n",
    "        nx, ny = x, y - 1\n",
    "    elif dir.upper() == 'L':   # LEFT\n",
    "        nx, ny = x - 1, y\n",
    "    elif dir.upper() == 'R':   # RIGHT\n",
    "        nx, ny = x + 1, y\n",
    "\n",
    "    return nx, ny\n",
    "    \n",
    "def solution(dirs):\n",
    "    x, y = 5, 5         # 시작위치 5, 5\n",
    "    answer = set()      # 중복 좌표를 제거 위해\n",
    "\n",
    "    for dir in dirs:    # LULLLLLLU\n",
    "        nx, ny = move_position(dir, x, y)   # nx, ny 바뀔 좌표\n",
    "        if is_okay_in_map(nx, ny):          # 좌표 값이 맵 안에 있으면\n",
    "            answer.add((x, y, nx, ny))\n",
    "            # answer.add((nx, ny, x, y))\n",
    "            x, y = nx, ny                  # 변경된 좌표로 업데이트\n",
    "\n",
    "            # print(answer)\n",
    "        else:\n",
    "            continue\n",
    "\n",
    "    return len(answer)\n"
   ]
  },
  {
   "cell_type": "code",
   "execution_count": 82,
   "id": "1830724b",
   "metadata": {},
   "outputs": [
    {
     "name": "stdout",
     "output_type": "stream",
     "text": [
      "{(5, 5, 5, 6)}\n",
      "{(5, 6, 4, 6), (5, 5, 5, 6)}\n",
      "{(5, 6, 4, 6), (5, 5, 5, 6), (4, 6, 4, 7)}\n",
      "{(5, 6, 4, 6), (5, 5, 5, 6), (4, 7, 5, 7), (4, 6, 4, 7)}\n",
      "{(5, 6, 4, 6), (5, 7, 6, 7), (4, 6, 4, 7), (4, 7, 5, 7), (5, 5, 5, 6)}\n",
      "{(5, 6, 4, 6), (5, 7, 6, 7), (4, 6, 4, 7), (4, 7, 5, 7), (6, 7, 6, 6), (5, 5, 5, 6)}\n",
      "{(5, 6, 4, 6), (5, 7, 6, 7), (4, 6, 4, 7), (4, 7, 5, 7), (6, 7, 6, 6), (5, 5, 5, 6), (6, 6, 5, 6)}\n",
      "{(5, 6, 4, 6), (5, 7, 6, 7), (4, 6, 4, 7), (4, 7, 5, 7), (6, 7, 6, 6), (5, 5, 5, 6), (6, 6, 5, 6)}\n",
      "{(5, 6, 4, 6), (5, 7, 6, 7), (4, 6, 4, 7), (4, 7, 5, 7), (6, 7, 6, 6), (5, 5, 5, 6), (6, 6, 5, 6)}\n"
     ]
    },
    {
     "data": {
      "text/plain": [
       "7"
      ]
     },
     "execution_count": 82,
     "metadata": {},
     "output_type": "execute_result"
    }
   ],
   "source": [
    "solution(\"ULURRDLLU\")"
   ]
  }
 ],
 "metadata": {
  "kernelspec": {
   "display_name": "3.11.9",
   "language": "python",
   "name": "python3"
  },
  "language_info": {
   "codemirror_mode": {
    "name": "ipython",
    "version": 3
   },
   "file_extension": ".py",
   "mimetype": "text/x-python",
   "name": "python",
   "nbconvert_exporter": "python",
   "pygments_lexer": "ipython3",
   "version": "3.11.9"
  }
 },
 "nbformat": 4,
 "nbformat_minor": 5
}
