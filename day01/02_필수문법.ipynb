{
 "cells": [
  {
   "cell_type": "markdown",
   "id": "3a5b7b39",
   "metadata": {},
   "source": [
    "## 변수형"
   ]
  },
  {
   "cell_type": "code",
   "execution_count": 1,
   "id": "5e251de0",
   "metadata": {},
   "outputs": [],
   "source": [
    "# 정수형\n",
    "a = 13\n",
    "b = 4"
   ]
  },
  {
   "cell_type": "code",
   "execution_count": 2,
   "id": "1bff1bca",
   "metadata": {},
   "outputs": [
    {
     "data": {
      "text/plain": [
       "17"
      ]
     },
     "execution_count": 2,
     "metadata": {},
     "output_type": "execute_result"
    }
   ],
   "source": [
    "a + b"
   ]
  },
  {
   "cell_type": "code",
   "execution_count": 3,
   "id": "68b4759c",
   "metadata": {},
   "outputs": [
    {
     "data": {
      "text/plain": [
       "9"
      ]
     },
     "execution_count": 3,
     "metadata": {},
     "output_type": "execute_result"
    }
   ],
   "source": [
    "a - b"
   ]
  },
  {
   "cell_type": "code",
   "execution_count": 4,
   "id": "cb9d40f7",
   "metadata": {},
   "outputs": [
    {
     "data": {
      "text/plain": [
       "3.25"
      ]
     },
     "execution_count": 4,
     "metadata": {},
     "output_type": "execute_result"
    }
   ],
   "source": [
    "a / b"
   ]
  },
  {
   "cell_type": "code",
   "execution_count": 5,
   "id": "a494316d",
   "metadata": {},
   "outputs": [
    {
     "data": {
      "text/plain": [
       "3"
      ]
     },
     "execution_count": 5,
     "metadata": {},
     "output_type": "execute_result"
    }
   ],
   "source": [
    "a // b"
   ]
  },
  {
   "cell_type": "code",
   "execution_count": 6,
   "id": "c1f8ea11",
   "metadata": {},
   "outputs": [
    {
     "data": {
      "text/plain": [
       "1"
      ]
     },
     "execution_count": 6,
     "metadata": {},
     "output_type": "execute_result"
    }
   ],
   "source": [
    "a % b"
   ]
  },
  {
   "cell_type": "code",
   "execution_count": 7,
   "id": "60036081",
   "metadata": {},
   "outputs": [
    {
     "data": {
      "text/plain": [
       "False"
      ]
     },
     "execution_count": 7,
     "metadata": {},
     "output_type": "execute_result"
    }
   ],
   "source": [
    "a == b"
   ]
  },
  {
   "cell_type": "code",
   "execution_count": 8,
   "id": "2d246c80",
   "metadata": {},
   "outputs": [
    {
     "data": {
      "text/plain": [
       "28561"
      ]
     },
     "execution_count": 8,
     "metadata": {},
     "output_type": "execute_result"
    }
   ],
   "source": [
    "a ** b"
   ]
  },
  {
   "cell_type": "code",
   "execution_count": 9,
   "id": "1fff3354",
   "metadata": {},
   "outputs": [
    {
     "data": {
      "text/plain": [
       "True"
      ]
     },
     "execution_count": 9,
     "metadata": {},
     "output_type": "execute_result"
    }
   ],
   "source": [
    "a != b"
   ]
  },
  {
   "cell_type": "code",
   "execution_count": 10,
   "id": "0b000fdc",
   "metadata": {},
   "outputs": [
    {
     "data": {
      "text/plain": [
       "True"
      ]
     },
     "execution_count": 10,
     "metadata": {},
     "output_type": "execute_result"
    }
   ],
   "source": [
    "a > b"
   ]
  },
  {
   "cell_type": "code",
   "execution_count": 11,
   "id": "3dec186d",
   "metadata": {},
   "outputs": [
    {
     "data": {
      "text/plain": [
       "4"
      ]
     },
     "execution_count": 11,
     "metadata": {},
     "output_type": "execute_result"
    }
   ],
   "source": [
    "## 정수형 비트 연산\n",
    "## 13 -> 1101 / 4 -> 0100\n",
    "\n",
    "a & b   # 0100"
   ]
  },
  {
   "cell_type": "code",
   "execution_count": 12,
   "id": "1950dc1a",
   "metadata": {},
   "outputs": [
    {
     "data": {
      "text/plain": [
       "13"
      ]
     },
     "execution_count": 12,
     "metadata": {},
     "output_type": "execute_result"
    }
   ],
   "source": [
    "a | b"
   ]
  },
  {
   "cell_type": "code",
   "execution_count": 13,
   "id": "35194563",
   "metadata": {},
   "outputs": [
    {
     "data": {
      "text/plain": [
       "9"
      ]
     },
     "execution_count": 13,
     "metadata": {},
     "output_type": "execute_result"
    }
   ],
   "source": [
    "a ^ b   # 1001"
   ]
  },
  {
   "cell_type": "code",
   "execution_count": 14,
   "id": "df35408c",
   "metadata": {},
   "outputs": [
    {
     "data": {
      "text/plain": [
       "-14"
      ]
     },
     "execution_count": 14,
     "metadata": {},
     "output_type": "execute_result"
    }
   ],
   "source": [
    "~a"
   ]
  },
  {
   "cell_type": "code",
   "execution_count": 15,
   "id": "f0e4bbbd",
   "metadata": {},
   "outputs": [
    {
     "data": {
      "text/plain": [
       "52"
      ]
     },
     "execution_count": 15,
     "metadata": {},
     "output_type": "execute_result"
    }
   ],
   "source": [
    "a << 2  # 110100"
   ]
  },
  {
   "cell_type": "code",
   "execution_count": 16,
   "id": "db54c4d4",
   "metadata": {},
   "outputs": [
    {
     "data": {
      "text/plain": [
       "6"
      ]
     },
     "execution_count": 16,
     "metadata": {},
     "output_type": "execute_result"
    }
   ],
   "source": [
    "a >> 1 # 0110"
   ]
  },
  {
   "cell_type": "code",
   "execution_count": 17,
   "id": "4fb4cbd7",
   "metadata": {},
   "outputs": [
    {
     "data": {
      "text/plain": [
       "True"
      ]
     },
     "execution_count": 17,
     "metadata": {},
     "output_type": "execute_result"
    }
   ],
   "source": [
    "(a > b) and (a != b)"
   ]
  },
  {
   "cell_type": "code",
   "execution_count": 18,
   "id": "916b2735",
   "metadata": {},
   "outputs": [
    {
     "data": {
      "text/plain": [
       "False"
      ]
     },
     "execution_count": 18,
     "metadata": {},
     "output_type": "execute_result"
    }
   ],
   "source": [
    "not a"
   ]
  },
  {
   "cell_type": "code",
   "execution_count": 19,
   "id": "1e7fa295",
   "metadata": {},
   "outputs": [
    {
     "data": {
      "text/plain": [
       "True"
      ]
     },
     "execution_count": 19,
     "metadata": {},
     "output_type": "execute_result"
    }
   ],
   "source": [
    "not 0"
   ]
  },
  {
   "cell_type": "code",
   "execution_count": 20,
   "id": "29f5b1e1",
   "metadata": {},
   "outputs": [
    {
     "data": {
      "text/plain": [
       "6.2"
      ]
     },
     "execution_count": 20,
     "metadata": {},
     "output_type": "execute_result"
    }
   ],
   "source": [
    "## 부동소수형\n",
    "2.5 + 3.7"
   ]
  },
  {
   "cell_type": "code",
   "execution_count": 21,
   "id": "dea6b938",
   "metadata": {},
   "outputs": [
    {
     "data": {
      "text/plain": [
       "3.1562499999999996"
      ]
     },
     "execution_count": 21,
     "metadata": {},
     "output_type": "execute_result"
    }
   ],
   "source": [
    "10.1 / 3.2"
   ]
  },
  {
   "cell_type": "code",
   "execution_count": 22,
   "id": "b195d68f",
   "metadata": {},
   "outputs": [
    {
     "data": {
      "text/plain": [
       "3.0"
      ]
     },
     "execution_count": 22,
     "metadata": {},
     "output_type": "execute_result"
    }
   ],
   "source": [
    "10.1 // 3.2"
   ]
  },
  {
   "cell_type": "code",
   "execution_count": 23,
   "id": "6eb27369",
   "metadata": {},
   "outputs": [
    {
     "data": {
      "text/plain": [
       "0.4999999999999991"
      ]
     },
     "execution_count": 23,
     "metadata": {},
     "output_type": "execute_result"
    }
   ],
   "source": [
    "10.1 % 3.2"
   ]
  },
  {
   "cell_type": "markdown",
   "id": "28cf782f",
   "metadata": {},
   "source": [
    "### 엡실론을 포함한 연산\n",
    "- 0.1을 3번 더한 값을 0.3으로 빼면?"
   ]
  },
  {
   "cell_type": "code",
   "execution_count": 24,
   "id": "59561318",
   "metadata": {},
   "outputs": [],
   "source": [
    "c = 0.1"
   ]
  },
  {
   "cell_type": "code",
   "execution_count": 25,
   "id": "4504710e",
   "metadata": {},
   "outputs": [],
   "source": [
    "sum = c + c + c"
   ]
  },
  {
   "cell_type": "code",
   "execution_count": 26,
   "id": "7a3b4e01",
   "metadata": {},
   "outputs": [
    {
     "data": {
      "text/plain": [
       "5.551115123125783e-17"
      ]
     },
     "execution_count": 26,
     "metadata": {},
     "output_type": "execute_result"
    }
   ],
   "source": [
    "sum - 0.3"
   ]
  },
  {
   "cell_type": "code",
   "execution_count": 27,
   "id": "447f07c1",
   "metadata": {},
   "outputs": [
    {
     "data": {
      "text/plain": [
       "2.220446049250313e-16"
      ]
     },
     "execution_count": 27,
     "metadata": {},
     "output_type": "execute_result"
    }
   ],
   "source": [
    "import sys\n",
    "\n",
    "# 엡실론 출력\n",
    "sys.float_info.epsilon\n",
    "# 0.0000000000000002220446049250313"
   ]
  },
  {
   "cell_type": "code",
   "execution_count": 28,
   "id": "bb811a2d",
   "metadata": {},
   "outputs": [],
   "source": [
    "d = 0.1 + 0.1 + 0.1\n",
    "e = 0.3"
   ]
  },
  {
   "cell_type": "code",
   "execution_count": 29,
   "id": "7a7db051",
   "metadata": {},
   "outputs": [
    {
     "data": {
      "text/plain": [
       "5.551115123125783e-17"
      ]
     },
     "execution_count": 29,
     "metadata": {},
     "output_type": "execute_result"
    }
   ],
   "source": [
    "d - e"
   ]
  },
  {
   "cell_type": "code",
   "execution_count": 30,
   "id": "9027d441",
   "metadata": {},
   "outputs": [
    {
     "name": "stdout",
     "output_type": "stream",
     "text": [
      "동일 수\n"
     ]
    }
   ],
   "source": [
    "if abs(d - e) < sys.float_info.epsilon:\n",
    "    print(\"동일 수\")\n",
    "else:\n",
    "    print(\"다른 수\")"
   ]
  },
  {
   "cell_type": "markdown",
   "id": "3fc698f4",
   "metadata": {},
   "source": [
    "## 컬렉션\n",
    "\n",
    "- 리스트, 튜플, 딕셔너리, 셋, 문자열 등\n",
    "- Mutable : 변경할 수 있는 객체\n",
    "- Immutable : 변경할 수 있는 객체"
   ]
  },
  {
   "cell_type": "markdown",
   "id": "c537df93",
   "metadata": {},
   "source": [
    "### 뮤터블"
   ]
  },
  {
   "cell_type": "code",
   "execution_count": 31,
   "id": "dd754a2b",
   "metadata": {},
   "outputs": [
    {
     "data": {
      "text/plain": [
       "7"
      ]
     },
     "execution_count": 31,
     "metadata": {},
     "output_type": "execute_result"
    }
   ],
   "source": [
    "nlist = [1, 3, 5, 7, 9]\n",
    "nlist[3]"
   ]
  },
  {
   "cell_type": "code",
   "execution_count": 32,
   "id": "2732f128",
   "metadata": {},
   "outputs": [],
   "source": [
    "nlist[3] = 8"
   ]
  },
  {
   "cell_type": "code",
   "execution_count": 33,
   "id": "5afb34ab",
   "metadata": {},
   "outputs": [
    {
     "data": {
      "text/plain": [
       "[1, 3, 5, 8, 9]"
      ]
     },
     "execution_count": 33,
     "metadata": {},
     "output_type": "execute_result"
    }
   ],
   "source": [
    "nlist"
   ]
  },
  {
   "cell_type": "markdown",
   "id": "f70b56eb",
   "metadata": {},
   "source": [
    "### 이뮤터블"
   ]
  },
  {
   "cell_type": "code",
   "execution_count": 34,
   "id": "fbb9a6dc",
   "metadata": {},
   "outputs": [
    {
     "data": {
      "text/plain": [
       "7"
      ]
     },
     "execution_count": 34,
     "metadata": {},
     "output_type": "execute_result"
    }
   ],
   "source": [
    "ntuple = (1, 3, 5, 7, 9)\n",
    "ntuple[3]"
   ]
  },
  {
   "cell_type": "code",
   "execution_count": 36,
   "id": "88dd71eb",
   "metadata": {},
   "outputs": [
    {
     "ename": "TypeError",
     "evalue": "'tuple' object does not support item assignment",
     "output_type": "error",
     "traceback": [
      "\u001b[1;31m---------------------------------------------------------------------------\u001b[0m",
      "\u001b[1;31mTypeError\u001b[0m                                 Traceback (most recent call last)",
      "Cell \u001b[1;32mIn[36], line 1\u001b[0m\n\u001b[1;32m----> 1\u001b[0m \u001b[43mntuple\u001b[49m\u001b[43m[\u001b[49m\u001b[38;5;241;43m3\u001b[39;49m\u001b[43m]\u001b[49m \u001b[38;5;241m=\u001b[39m \u001b[38;5;241m8\u001b[39m\n",
      "\u001b[1;31mTypeError\u001b[0m: 'tuple' object does not support item assignment"
     ]
    }
   ],
   "source": [
    "ntuple[3] = 8"
   ]
  },
  {
   "cell_type": "code",
   "execution_count": 37,
   "id": "60d1933c",
   "metadata": {},
   "outputs": [
    {
     "data": {
      "text/plain": [
       "'o'"
      ]
     },
     "execution_count": 37,
     "metadata": {},
     "output_type": "execute_result"
    }
   ],
   "source": [
    "mystring = \"Hello\"\n",
    "mystring[4]"
   ]
  },
  {
   "cell_type": "code",
   "execution_count": 38,
   "id": "74fcb9e7",
   "metadata": {},
   "outputs": [
    {
     "ename": "TypeError",
     "evalue": "'str' object does not support item assignment",
     "output_type": "error",
     "traceback": [
      "\u001b[1;31m---------------------------------------------------------------------------\u001b[0m",
      "\u001b[1;31mTypeError\u001b[0m                                 Traceback (most recent call last)",
      "Cell \u001b[1;32mIn[38], line 1\u001b[0m\n\u001b[1;32m----> 1\u001b[0m \u001b[43mmystring\u001b[49m\u001b[43m[\u001b[49m\u001b[38;5;241;43m4\u001b[39;49m\u001b[43m]\u001b[49m \u001b[38;5;241m=\u001b[39m \u001b[38;5;124m'\u001b[39m\u001b[38;5;124m'\u001b[39m    \u001b[38;5;66;03m# 문자열도 요소 값을 변경할 수 없음\u001b[39;00m\n",
      "\u001b[1;31mTypeError\u001b[0m: 'str' object does not support item assignment"
     ]
    }
   ],
   "source": [
    "mystring[4] = ''    # 문자열도 요소 값을 변경할 수 없음"
   ]
  },
  {
   "cell_type": "code",
   "execution_count": 39,
   "id": "3bd1c013",
   "metadata": {},
   "outputs": [
    {
     "data": {
      "text/plain": [
       "'Hell'"
      ]
     },
     "execution_count": 39,
     "metadata": {},
     "output_type": "execute_result"
    }
   ],
   "source": [
    "mystring[0:4]"
   ]
  },
  {
   "cell_type": "markdown",
   "id": "2fbfb468",
   "metadata": {},
   "source": [
    "### 리스트"
   ]
  },
  {
   "cell_type": "code",
   "execution_count": 40,
   "id": "ab07ff0b",
   "metadata": {},
   "outputs": [],
   "source": [
    "list1 = [1, 2, 3, 4, 5]\n",
    "list2 = [1, 3, 5] + [7, 9]\n",
    "list3 = list(list1)"
   ]
  },
  {
   "cell_type": "code",
   "execution_count": 41,
   "id": "7d433d90",
   "metadata": {},
   "outputs": [
    {
     "data": {
      "text/plain": [
       "[1, 2, 3, 4, 5]"
      ]
     },
     "execution_count": 41,
     "metadata": {},
     "output_type": "execute_result"
    }
   ],
   "source": [
    "list1"
   ]
  },
  {
   "cell_type": "code",
   "execution_count": 42,
   "id": "19c2c9aa",
   "metadata": {},
   "outputs": [
    {
     "data": {
      "text/plain": [
       "[1, 3, 5, 7, 9]"
      ]
     },
     "execution_count": 42,
     "metadata": {},
     "output_type": "execute_result"
    }
   ],
   "source": [
    "list2"
   ]
  },
  {
   "cell_type": "code",
   "execution_count": 43,
   "id": "3b4a66c0",
   "metadata": {},
   "outputs": [
    {
     "data": {
      "text/plain": [
       "[1, 2, 3, 4, 5]"
      ]
     },
     "execution_count": 43,
     "metadata": {},
     "output_type": "execute_result"
    }
   ],
   "source": [
    "list3"
   ]
  },
  {
   "cell_type": "code",
   "execution_count": 44,
   "id": "1d0b8710",
   "metadata": {},
   "outputs": [],
   "source": [
    "nlist2 = list(ntuple)"
   ]
  },
  {
   "cell_type": "code",
   "execution_count": 45,
   "id": "ade54e3f",
   "metadata": {},
   "outputs": [],
   "source": [
    "nlist2[4] = 11"
   ]
  },
  {
   "cell_type": "code",
   "execution_count": 46,
   "id": "c37e425e",
   "metadata": {},
   "outputs": [
    {
     "data": {
      "text/plain": [
       "(1, 3, 5, 7, 11)"
      ]
     },
     "execution_count": 46,
     "metadata": {},
     "output_type": "execute_result"
    }
   ],
   "source": [
    "tuple(nlist2)"
   ]
  },
  {
   "cell_type": "code",
   "execution_count": 47,
   "id": "b6b6dcb3",
   "metadata": {},
   "outputs": [],
   "source": [
    "list4 = [1, 2, 4]"
   ]
  },
  {
   "cell_type": "code",
   "execution_count": 48,
   "id": "aaf920b7",
   "metadata": {},
   "outputs": [],
   "source": [
    "list4.append(6)"
   ]
  },
  {
   "cell_type": "code",
   "execution_count": 49,
   "id": "e679bd09",
   "metadata": {},
   "outputs": [
    {
     "data": {
      "text/plain": [
       "[1, 2, 4, 6]"
      ]
     },
     "execution_count": 49,
     "metadata": {},
     "output_type": "execute_result"
    }
   ],
   "source": [
    "list4"
   ]
  },
  {
   "cell_type": "code",
   "execution_count": 50,
   "id": "816fd449",
   "metadata": {},
   "outputs": [],
   "source": [
    "del list4[1]"
   ]
  },
  {
   "cell_type": "code",
   "execution_count": 51,
   "id": "3c168fd9",
   "metadata": {},
   "outputs": [
    {
     "data": {
      "text/plain": [
       "[1, 4, 6]"
      ]
     },
     "execution_count": 51,
     "metadata": {},
     "output_type": "execute_result"
    }
   ],
   "source": [
    "list4"
   ]
  },
  {
   "cell_type": "code",
   "execution_count": 52,
   "id": "94307e3b",
   "metadata": {},
   "outputs": [
    {
     "data": {
      "text/plain": [
       "[1, 3]"
      ]
     },
     "execution_count": 52,
     "metadata": {},
     "output_type": "execute_result"
    }
   ],
   "source": [
    "# 슬라이싱\n",
    "list2[0:2]"
   ]
  },
  {
   "cell_type": "code",
   "execution_count": 53,
   "id": "019fab4d",
   "metadata": {},
   "outputs": [
    {
     "data": {
      "text/plain": [
       "[5, 7, 9]"
      ]
     },
     "execution_count": 53,
     "metadata": {},
     "output_type": "execute_result"
    }
   ],
   "source": [
    "list2[2:]"
   ]
  },
  {
   "cell_type": "code",
   "execution_count": 54,
   "id": "7584bd30",
   "metadata": {},
   "outputs": [
    {
     "data": {
      "text/plain": [
       "[5]"
      ]
     },
     "execution_count": 54,
     "metadata": {},
     "output_type": "execute_result"
    }
   ],
   "source": [
    "list2[2:3]  # 슬라이싱 뒤의 수는 n+1값이다"
   ]
  },
  {
   "cell_type": "code",
   "execution_count": 55,
   "id": "67b38fd1",
   "metadata": {},
   "outputs": [
    {
     "data": {
      "text/plain": [
       "[3, 5]"
      ]
     },
     "execution_count": 55,
     "metadata": {},
     "output_type": "execute_result"
    }
   ],
   "source": [
    "list2[-4:-2]"
   ]
  },
  {
   "cell_type": "markdown",
   "id": "1507bb7a",
   "metadata": {},
   "source": [
    "#### 리스트 컴프리헨션"
   ]
  },
  {
   "cell_type": "code",
   "execution_count": 56,
   "id": "87a7de3d",
   "metadata": {},
   "outputs": [],
   "source": [
    "numbers = [x for x in range(21)]"
   ]
  },
  {
   "cell_type": "code",
   "execution_count": 57,
   "id": "4f21941a",
   "metadata": {},
   "outputs": [
    {
     "data": {
      "text/plain": [
       "[0, 1, 2, 3, 4, 5, 6, 7, 8, 9, 10, 11, 12, 13, 14, 15, 16, 17, 18, 19, 20]"
      ]
     },
     "execution_count": 57,
     "metadata": {},
     "output_type": "execute_result"
    }
   ],
   "source": [
    "numbers"
   ]
  },
  {
   "cell_type": "code",
   "execution_count": 58,
   "id": "b7ce9c95",
   "metadata": {},
   "outputs": [
    {
     "data": {
      "text/plain": [
       "[(0, 0), (0, 1), (0, 2), (1, 0), (1, 1), (1, 2)]"
      ]
     },
     "execution_count": 58,
     "metadata": {},
     "output_type": "execute_result"
    }
   ],
   "source": [
    "cartesian_product = [(x, y) for x in range(2) for y in range(3)]\n",
    "cartesian_product"
   ]
  },
  {
   "cell_type": "code",
   "execution_count": 59,
   "id": "3aca3128",
   "metadata": {},
   "outputs": [],
   "source": [
    "# 함수가 포함된 리스트 컴프리헨션\n",
    "def square(x):\n",
    "    return x * x"
   ]
  },
  {
   "cell_type": "code",
   "execution_count": 60,
   "id": "ab81a386",
   "metadata": {},
   "outputs": [
    {
     "data": {
      "text/plain": [
       "[0, 1, 4, 9, 16]"
      ]
     },
     "execution_count": 60,
     "metadata": {},
     "output_type": "execute_result"
    }
   ],
   "source": [
    "squares = [square(x) for x in range(5)]\n",
    "squares"
   ]
  },
  {
   "cell_type": "code",
   "execution_count": 61,
   "id": "f5d51594",
   "metadata": {},
   "outputs": [
    {
     "data": {
      "text/plain": [
       "[0, 1, 4, 9, 16]"
      ]
     },
     "execution_count": 61,
     "metadata": {},
     "output_type": "execute_result"
    }
   ],
   "source": [
    "squares2 = list(map(lambda x: x * x, range(5)))\n",
    "squares2"
   ]
  },
  {
   "cell_type": "code",
   "execution_count": 62,
   "id": "23548d0c",
   "metadata": {},
   "outputs": [
    {
     "data": {
      "text/plain": [
       "[2, 4, 6, 8, 10]"
      ]
     },
     "execution_count": 62,
     "metadata": {},
     "output_type": "execute_result"
    }
   ],
   "source": [
    "# 조건문\n",
    "even_numbers = [x for x in range(1, 11) if x % 2 == 0]\n",
    "even_numbers"
   ]
  },
  {
   "cell_type": "code",
   "execution_count": 63,
   "id": "3a61000c",
   "metadata": {},
   "outputs": [
    {
     "data": {
      "text/plain": [
       "[-1, 2, -3, 4, -5, 6, -7, 8, -9, 10]"
      ]
     },
     "execution_count": 63,
     "metadata": {},
     "output_type": "execute_result"
    }
   ],
   "source": [
    "wierd_numbers = [x if x % 2 == 0 else -x for x in range(1, 11)]\n",
    "wierd_numbers"
   ]
  },
  {
   "cell_type": "markdown",
   "id": "bb2a9d24",
   "metadata": {},
   "source": [
    "#### 딕셔너리\n",
    "- key와 value의 쌍을 저장하는 해시 테이블"
   ]
  },
  {
   "cell_type": "code",
   "execution_count": 64,
   "id": "3f8e7774",
   "metadata": {},
   "outputs": [],
   "source": [
    "dict1 = {}"
   ]
  },
  {
   "cell_type": "code",
   "execution_count": 65,
   "id": "a8f4d44e",
   "metadata": {},
   "outputs": [],
   "source": [
    "dict1['apple'] = 1"
   ]
  },
  {
   "cell_type": "code",
   "execution_count": 66,
   "id": "e436c49d",
   "metadata": {},
   "outputs": [],
   "source": [
    "dict1['samsung'] = 2\n",
    "dict1['lg'] = 3"
   ]
  },
  {
   "cell_type": "code",
   "execution_count": 67,
   "id": "f5d56711",
   "metadata": {},
   "outputs": [
    {
     "data": {
      "text/plain": [
       "{'apple': 1, 'samsung': 2, 'lg': 3}"
      ]
     },
     "execution_count": 67,
     "metadata": {},
     "output_type": "execute_result"
    }
   ],
   "source": [
    "dict1"
   ]
  },
  {
   "cell_type": "code",
   "execution_count": 68,
   "id": "603ab37f",
   "metadata": {},
   "outputs": [
    {
     "name": "stdout",
     "output_type": "stream",
     "text": [
      "apple: 1\n"
     ]
    }
   ],
   "source": [
    "key = 'apple'\n",
    "if key in dict1:\n",
    "    value = dict1[key]\n",
    "    print(f'{key}: {value}')\n",
    "else:\n",
    "    print(f'{key} doesnt exist')"
   ]
  },
  {
   "cell_type": "code",
   "execution_count": 69,
   "id": "c11cd97d",
   "metadata": {},
   "outputs": [],
   "source": [
    "dict1['lg'] = 4"
   ]
  },
  {
   "cell_type": "code",
   "execution_count": 70,
   "id": "dae64173",
   "metadata": {},
   "outputs": [],
   "source": [
    "del dict1['lg']"
   ]
  },
  {
   "cell_type": "code",
   "execution_count": 71,
   "id": "349c8bbf",
   "metadata": {},
   "outputs": [
    {
     "data": {
      "text/plain": [
       "{'apple': 1, 'samsung': 2}"
      ]
     },
     "execution_count": 71,
     "metadata": {},
     "output_type": "execute_result"
    }
   ],
   "source": [
    "dict1"
   ]
  },
  {
   "cell_type": "markdown",
   "id": "312178d5",
   "metadata": {},
   "source": [
    "#### 셋\n",
    "- 집합. 교집합, 합집합 등 가능"
   ]
  },
  {
   "cell_type": "code",
   "execution_count": 72,
   "id": "d1e1a4e1",
   "metadata": {},
   "outputs": [
    {
     "data": {
      "text/plain": [
       "set()"
      ]
     },
     "execution_count": 72,
     "metadata": {},
     "output_type": "execute_result"
    }
   ],
   "source": [
    "# 초기화\n",
    "empty_set = set()\n",
    "empty_set"
   ]
  },
  {
   "cell_type": "code",
   "execution_count": 73,
   "id": "0dddf40a",
   "metadata": {},
   "outputs": [
    {
     "data": {
      "text/plain": [
       "{1, 2, 3, 5}"
      ]
     },
     "execution_count": 73,
     "metadata": {},
     "output_type": "execute_result"
    }
   ],
   "source": [
    "set([1, 2, 3, 5, 3, 3, 2])  # 집합은 중복제거"
   ]
  },
  {
   "cell_type": "code",
   "execution_count": 74,
   "id": "53fe6872",
   "metadata": {},
   "outputs": [
    {
     "data": {
      "text/plain": [
       "{1, 7, 12, 14}"
      ]
     },
     "execution_count": 74,
     "metadata": {},
     "output_type": "execute_result"
    }
   ],
   "source": [
    "set1 = {12, 14, 1, 7, 1}\n",
    "set1"
   ]
  },
  {
   "cell_type": "code",
   "execution_count": 75,
   "id": "516cba6d",
   "metadata": {},
   "outputs": [
    {
     "data": {
      "text/plain": [
       "{' ', 'd', 'e', 'h', 'l', 'o', 'r', 'w'}"
      ]
     },
     "execution_count": 75,
     "metadata": {},
     "output_type": "execute_result"
    }
   ],
   "source": [
    "set2 = set(\"hello world\")\n",
    "set2    # ASCII 알파벳 오름차순으로 출력"
   ]
  },
  {
   "cell_type": "code",
   "execution_count": 76,
   "id": "95bebe0b",
   "metadata": {},
   "outputs": [
    {
     "data": {
      "text/plain": [
       "{2, 4, 6, 8, 10}"
      ]
     },
     "execution_count": 76,
     "metadata": {},
     "output_type": "execute_result"
    }
   ],
   "source": [
    "# Set Comprihension\n",
    "compri_set = {x for x in range(1, 11) if x % 2 == 0}\n",
    "compri_set"
   ]
  },
  {
   "cell_type": "code",
   "execution_count": 77,
   "id": "30fef2f8",
   "metadata": {},
   "outputs": [],
   "source": [
    "set3 = {1, 3, 5}"
   ]
  },
  {
   "cell_type": "code",
   "execution_count": 78,
   "id": "6f73af8e",
   "metadata": {},
   "outputs": [],
   "source": [
    "set3.add(7)"
   ]
  },
  {
   "cell_type": "code",
   "execution_count": 79,
   "id": "565c1369",
   "metadata": {},
   "outputs": [
    {
     "data": {
      "text/plain": [
       "{1, 3, 5, 7}"
      ]
     },
     "execution_count": 79,
     "metadata": {},
     "output_type": "execute_result"
    }
   ],
   "source": [
    "set3"
   ]
  },
  {
   "cell_type": "code",
   "execution_count": 80,
   "id": "f4fccc8d",
   "metadata": {},
   "outputs": [],
   "source": [
    "set3.add(3)"
   ]
  },
  {
   "cell_type": "code",
   "execution_count": 81,
   "id": "fad38b79",
   "metadata": {},
   "outputs": [
    {
     "data": {
      "text/plain": [
       "{1, 3, 5, 7}"
      ]
     },
     "execution_count": 81,
     "metadata": {},
     "output_type": "execute_result"
    }
   ],
   "source": [
    "set3"
   ]
  },
  {
   "cell_type": "code",
   "execution_count": 82,
   "id": "25c40ab1",
   "metadata": {},
   "outputs": [],
   "source": [
    "set3.update([9, 11, 1])"
   ]
  },
  {
   "cell_type": "code",
   "execution_count": 83,
   "id": "c36efd43",
   "metadata": {},
   "outputs": [
    {
     "data": {
      "text/plain": [
       "{1, 3, 5, 7, 9, 11}"
      ]
     },
     "execution_count": 83,
     "metadata": {},
     "output_type": "execute_result"
    }
   ],
   "source": [
    "set3"
   ]
  },
  {
   "cell_type": "code",
   "execution_count": 84,
   "id": "7ebd49be",
   "metadata": {},
   "outputs": [
    {
     "ename": "KeyError",
     "evalue": "4",
     "output_type": "error",
     "traceback": [
      "\u001b[1;31m---------------------------------------------------------------------------\u001b[0m",
      "\u001b[1;31mKeyError\u001b[0m                                  Traceback (most recent call last)",
      "Cell \u001b[1;32mIn[84], line 1\u001b[0m\n\u001b[1;32m----> 1\u001b[0m \u001b[43mset3\u001b[49m\u001b[38;5;241;43m.\u001b[39;49m\u001b[43mremove\u001b[49m\u001b[43m(\u001b[49m\u001b[38;5;241;43m4\u001b[39;49m\u001b[43m)\u001b[49m\n",
      "\u001b[1;31mKeyError\u001b[0m: 4"
     ]
    }
   ],
   "source": [
    "set3.remove(4)"
   ]
  },
  {
   "cell_type": "code",
   "execution_count": 85,
   "id": "a377bf67",
   "metadata": {},
   "outputs": [],
   "source": [
    "set3.discard(4)"
   ]
  },
  {
   "cell_type": "code",
   "execution_count": 86,
   "id": "b77e1b64",
   "metadata": {},
   "outputs": [],
   "source": [
    "set3.clear()"
   ]
  },
  {
   "cell_type": "code",
   "execution_count": 87,
   "id": "12162cc7",
   "metadata": {},
   "outputs": [
    {
     "data": {
      "text/plain": [
       "set()"
      ]
     },
     "execution_count": 87,
     "metadata": {},
     "output_type": "execute_result"
    }
   ],
   "source": [
    "set3"
   ]
  },
  {
   "cell_type": "markdown",
   "id": "5ccab78f",
   "metadata": {},
   "source": [
    "#### 합집합"
   ]
  },
  {
   "cell_type": "code",
   "execution_count": 88,
   "id": "06dd245e",
   "metadata": {},
   "outputs": [],
   "source": [
    "set4 = {1, 2, 3}\n",
    "set5 = {3, 4, 5}"
   ]
  },
  {
   "cell_type": "code",
   "execution_count": 89,
   "id": "a4c00225",
   "metadata": {},
   "outputs": [
    {
     "data": {
      "text/plain": [
       "{1, 2, 3, 4, 5}"
      ]
     },
     "execution_count": 89,
     "metadata": {},
     "output_type": "execute_result"
    }
   ],
   "source": [
    "union_set = set4.union(set5)\n",
    "union_set"
   ]
  },
  {
   "cell_type": "code",
   "execution_count": 90,
   "id": "3d8563c9",
   "metadata": {},
   "outputs": [],
   "source": [
    "set4 |= set5"
   ]
  },
  {
   "cell_type": "code",
   "execution_count": 91,
   "id": "c9aa19f5",
   "metadata": {},
   "outputs": [
    {
     "data": {
      "text/plain": [
       "{1, 2, 3, 4, 5}"
      ]
     },
     "execution_count": 91,
     "metadata": {},
     "output_type": "execute_result"
    }
   ],
   "source": [
    "set4"
   ]
  },
  {
   "cell_type": "markdown",
   "id": "cfd449e9",
   "metadata": {},
   "source": [
    "#### 교집합"
   ]
  },
  {
   "cell_type": "code",
   "execution_count": 92,
   "id": "31209799",
   "metadata": {},
   "outputs": [],
   "source": [
    "set4 = {1, 2, 3}\n",
    "set5 = {3, 4, 5}"
   ]
  },
  {
   "cell_type": "code",
   "execution_count": 93,
   "id": "80b93886",
   "metadata": {},
   "outputs": [
    {
     "data": {
      "text/plain": [
       "{3}"
      ]
     },
     "execution_count": 93,
     "metadata": {},
     "output_type": "execute_result"
    }
   ],
   "source": [
    "intersection_set = set4.intersection(set5)\n",
    "intersection_set"
   ]
  },
  {
   "cell_type": "markdown",
   "id": "4a4231f5",
   "metadata": {},
   "source": [
    "#### 차집합"
   ]
  },
  {
   "cell_type": "code",
   "execution_count": 94,
   "id": "0396d899",
   "metadata": {},
   "outputs": [],
   "source": [
    "set4 = {1, 2, 3}\n",
    "set5 = {3, 4, 5}"
   ]
  },
  {
   "cell_type": "code",
   "execution_count": 95,
   "id": "eeba9469",
   "metadata": {},
   "outputs": [
    {
     "data": {
      "text/plain": [
       "{1, 2}"
      ]
     },
     "execution_count": 95,
     "metadata": {},
     "output_type": "execute_result"
    }
   ],
   "source": [
    "difference_set = set4.difference(set5)\n",
    "difference_set"
   ]
  },
  {
   "cell_type": "markdown",
   "id": "4261579f",
   "metadata": {},
   "source": [
    "#### 튜플"
   ]
  },
  {
   "cell_type": "code",
   "execution_count": 96,
   "id": "fc48aa8e",
   "metadata": {},
   "outputs": [],
   "source": [
    "tuple7 = (1, 2, 3)"
   ]
  },
  {
   "cell_type": "code",
   "execution_count": 97,
   "id": "301fce0d",
   "metadata": {},
   "outputs": [
    {
     "data": {
      "text/plain": [
       "3"
      ]
     },
     "execution_count": 97,
     "metadata": {},
     "output_type": "execute_result"
    }
   ],
   "source": [
    "tuple7[2]"
   ]
  },
  {
   "cell_type": "markdown",
   "id": "3f91c244",
   "metadata": {},
   "source": [
    "#### 문자열"
   ]
  },
  {
   "cell_type": "code",
   "execution_count": 98,
   "id": "99fa180d",
   "metadata": {},
   "outputs": [],
   "source": [
    "string1 = \"Hello World\"\n",
    "string2 = \"Hello World\""
   ]
  },
  {
   "cell_type": "code",
   "execution_count": 99,
   "id": "6e6349a1",
   "metadata": {},
   "outputs": [
    {
     "data": {
      "text/plain": [
       "'Hello'"
      ]
     },
     "execution_count": 99,
     "metadata": {},
     "output_type": "execute_result"
    }
   ],
   "source": [
    "string3 = \"He\"\n",
    "string3 += \"llo\"\n",
    "string3"
   ]
  },
  {
   "cell_type": "code",
   "execution_count": 100,
   "id": "9949f98b",
   "metadata": {},
   "outputs": [
    {
     "data": {
      "text/plain": [
       "'Hello'"
      ]
     },
     "execution_count": 100,
     "metadata": {},
     "output_type": "execute_result"
    }
   ],
   "source": [
    "string_list = ['He', 'llo']\n",
    "''.join(string_list)"
   ]
  },
  {
   "cell_type": "code",
   "execution_count": 101,
   "id": "a2ac8bca",
   "metadata": {},
   "outputs": [
    {
     "data": {
      "text/plain": [
       "'Heo Word'"
      ]
     },
     "execution_count": 101,
     "metadata": {},
     "output_type": "execute_result"
    }
   ],
   "source": [
    "string2.replace('l', '')"
   ]
  },
  {
   "cell_type": "markdown",
   "id": "cfa5f7e2",
   "metadata": {},
   "source": [
    "### 함수"
   ]
  },
  {
   "cell_type": "markdown",
   "id": "f58b9660",
   "metadata": {},
   "source": [
    "#### 함수 정의"
   ]
  },
  {
   "cell_type": "code",
   "execution_count": 102,
   "id": "4b11ad3e",
   "metadata": {},
   "outputs": [],
   "source": [
    "def function_name(param1, param2, param3):\n",
    "    # logic\n",
    "    return"
   ]
  },
  {
   "cell_type": "markdown",
   "id": "f1a558b3",
   "metadata": {},
   "source": [
    "#### 람다식"
   ]
  },
  {
   "cell_type": "code",
   "execution_count": 103,
   "id": "25023840",
   "metadata": {},
   "outputs": [
    {
     "data": {
      "text/plain": [
       "30"
      ]
     },
     "execution_count": 103,
     "metadata": {},
     "output_type": "execute_result"
    }
   ],
   "source": [
    "multi = lambda x, y : x * y\n",
    "multi(5, 6)"
   ]
  },
  {
   "cell_type": "code",
   "execution_count": 104,
   "id": "c31b2acd",
   "metadata": {},
   "outputs": [
    {
     "data": {
      "text/plain": [
       "[1, 2, 3, 4, 5]"
      ]
     },
     "execution_count": 104,
     "metadata": {},
     "output_type": "execute_result"
    }
   ],
   "source": [
    "nums = [x for x in range(1, 6)]\n",
    "nums"
   ]
  },
  {
   "cell_type": "code",
   "execution_count": 105,
   "id": "cfa54568",
   "metadata": {},
   "outputs": [],
   "source": [
    "squares = list(map(lambda x: x * x, nums))"
   ]
  },
  {
   "cell_type": "code",
   "execution_count": 106,
   "id": "8ee955bc",
   "metadata": {},
   "outputs": [
    {
     "data": {
      "text/plain": [
       "[1, 4, 9, 16, 25]"
      ]
     },
     "execution_count": 106,
     "metadata": {},
     "output_type": "execute_result"
    }
   ],
   "source": [
    "squares"
   ]
  },
  {
   "cell_type": "markdown",
   "id": "b778c212",
   "metadata": {},
   "source": [
    "### 코테 구현 노하우"
   ]
  },
  {
   "cell_type": "markdown",
   "id": "d9dcda66",
   "metadata": {},
   "source": [
    "#### 조기 반환"
   ]
  },
  {
   "cell_type": "code",
   "execution_count": 107,
   "id": "47fe9769",
   "metadata": {},
   "outputs": [],
   "source": [
    "def total_price(quantity, price):\n",
    "    total = quantity * price\n",
    "    if total > 100:\n",
    "        return total * 0.9\n",
    "    return total"
   ]
  },
  {
   "cell_type": "code",
   "execution_count": 108,
   "id": "db587bb6",
   "metadata": {},
   "outputs": [
    {
     "data": {
      "text/plain": [
       "98"
      ]
     },
     "execution_count": 108,
     "metadata": {},
     "output_type": "execute_result"
    }
   ],
   "source": [
    "total_price(2, 49)"
   ]
  },
  {
   "cell_type": "code",
   "execution_count": 109,
   "id": "9557691f",
   "metadata": {},
   "outputs": [
    {
     "data": {
      "text/plain": [
       "180.0"
      ]
     },
     "execution_count": 109,
     "metadata": {},
     "output_type": "execute_result"
    }
   ],
   "source": [
    "total_price(4, 50)"
   ]
  },
  {
   "cell_type": "markdown",
   "id": "5b91424b",
   "metadata": {},
   "source": [
    "#### 보호구문\n",
    "- Validation check"
   ]
  },
  {
   "cell_type": "code",
   "execution_count": 110,
   "id": "59d6ff0f",
   "metadata": {},
   "outputs": [],
   "source": [
    "def cal_avg(numbers):\n",
    "    if numbers is None:\n",
    "        return None # 값이 없으면 예외처리. C 기법\n",
    "\n",
    "    if not isinstance(numbers, list):   # 값이 리스트가 아니면 종료\n",
    "        return None\n",
    "\n",
    "    if len(numbers) == 0:    # 값이 길이가 0이면 종료\n",
    "        return None\n",
    "    \n",
    "    total = sum(numbers)\n",
    "    average = total / len(numbers)\n",
    "    return average"
   ]
  },
  {
   "cell_type": "markdown",
   "id": "9ad34555",
   "metadata": {},
   "source": [
    "- 코테 소스에는 최대한 예외처리(try ~ except)를 사용하지 말 것\n",
    "- 예외처리 구문에서 예외가 발생하면 속도가 느려짐"
   ]
  },
  {
   "cell_type": "markdown",
   "id": "2c42ac55",
   "metadata": {},
   "source": [
    "#### 합성 함수\n",
    "- 2개 이상의 함수를 활용하여 추가로 함수를 만드는 방법"
   ]
  },
  {
   "cell_type": "code",
   "execution_count": 111,
   "id": "2046dc95",
   "metadata": {},
   "outputs": [],
   "source": [
    "def add_three(x):\n",
    "    return x + 3\n",
    "\n",
    "def square(x):\n",
    "    return x * x"
   ]
  },
  {
   "cell_type": "code",
   "execution_count": 112,
   "id": "613b9a84",
   "metadata": {},
   "outputs": [],
   "source": [
    "# 합성함수\n",
    "composed_function = lambda x : square(add_three(x))"
   ]
  },
  {
   "cell_type": "code",
   "execution_count": 113,
   "id": "16aa9e3c",
   "metadata": {},
   "outputs": [
    {
     "data": {
      "text/plain": [
       "36"
      ]
     },
     "execution_count": 113,
     "metadata": {},
     "output_type": "execute_result"
    }
   ],
   "source": [
    "composed_function(3)    # (3 + 3) ^ 2 = 38"
   ]
  }
 ],
 "metadata": {
  "kernelspec": {
   "display_name": "3.11.9",
   "language": "python",
   "name": "python3"
  },
  "language_info": {
   "codemirror_mode": {
    "name": "ipython",
    "version": 3
   },
   "file_extension": ".py",
   "mimetype": "text/x-python",
   "name": "python",
   "nbconvert_exporter": "python",
   "pygments_lexer": "ipython3",
   "version": "3.11.9"
  }
 },
 "nbformat": 4,
 "nbformat_minor": 5
}
