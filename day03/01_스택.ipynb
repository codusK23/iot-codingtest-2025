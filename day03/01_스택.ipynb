{
 "cells": [
  {
   "cell_type": "markdown",
   "id": "98dc1dab",
   "metadata": {},
   "source": [
    "## 스택\n",
    "\n",
    "### 개념\n",
    "\n",
    "#### ADT\n",
    "- `boolean isFull()` : 스택이 가득 찼는지 확인. True면 더 이상 삽입 불가\n",
    "- `boolean isEmpty()` : 스택이 비어있는지 확인. True면 추출 불가\n",
    "- `void push(item)` : 스택에 데이터 푸시. isFull() True면 처리 불가\n",
    "- `item pop()` : 스택에서 최근 푸시한 데이터 팝. isEmpty() True면 처리 불가\n",
    "- `int top` : 스택에 최근 푸시한 데이터 위치(높이)\n",
    "- `item data[maxsize]` : 데이터를 관리하는 리스트"
   ]
  },
  {
   "cell_type": "markdown",
   "id": "f4adb7a2",
   "metadata": {},
   "source": [
    "```shell\n",
    "pip install stack\n",
    "```\n",
    "\n",
    "```python\n",
    "from stack import Stack\n",
    "```"
   ]
  },
  {
   "cell_type": "code",
   "execution_count": 2,
   "id": "97313362",
   "metadata": {},
   "outputs": [],
   "source": [
    "# 구현\n",
    "stack = []\n",
    "max_size = 4   # 데이터 4개만 저장\n",
    "\n",
    "# 스택이 꽉 찼는지 확인\n",
    "def isFull(stack):\n",
    "    return len(stack) == max_size\n",
    "\n",
    "# 스택이 비었는지 확인\n",
    "def isEmpty(stack):\n",
    "    return len(stack) == 0\n",
    "\n",
    "# Push\n",
    "def push(stack, item):\n",
    "    if isFull(stack):\n",
    "        print(\"스택이 가득찼습니다!\")\n",
    "    else:\n",
    "        stack.append(item)\n",
    "        print(\"스택에 데이터 추가했습니다.\")\n",
    "\n",
    "# Pop\n",
    "def pop(stack):\n",
    "    if isEmpty(stack):\n",
    "        print(\"스택이 비어있습니다!\")\n",
    "        return None\n",
    "    else:\n",
    "        return stack.pop()"
   ]
  },
  {
   "cell_type": "code",
   "execution_count": 3,
   "id": "befa20c1",
   "metadata": {},
   "outputs": [
    {
     "name": "stdout",
     "output_type": "stream",
     "text": [
      "스택에 데이터 추가했습니다.\n"
     ]
    }
   ],
   "source": [
    "mystack = []\n",
    "\n",
    "push(mystack, 2)"
   ]
  },
  {
   "cell_type": "code",
   "execution_count": 4,
   "id": "436d72d6",
   "metadata": {},
   "outputs": [
    {
     "name": "stdout",
     "output_type": "stream",
     "text": [
      "스택에 데이터 추가했습니다.\n",
      "스택에 데이터 추가했습니다.\n"
     ]
    }
   ],
   "source": [
    "push(mystack, 5)\n",
    "push(mystack, 12)"
   ]
  },
  {
   "cell_type": "code",
   "execution_count": 5,
   "id": "ab69dc32",
   "metadata": {},
   "outputs": [
    {
     "name": "stdout",
     "output_type": "stream",
     "text": [
      "스택에 데이터 추가했습니다.\n"
     ]
    }
   ],
   "source": [
    "push(mystack, 7)"
   ]
  },
  {
   "cell_type": "code",
   "execution_count": 6,
   "id": "31df2485",
   "metadata": {},
   "outputs": [
    {
     "data": {
      "text/plain": [
       "[2, 5, 12, 7]"
      ]
     },
     "execution_count": 6,
     "metadata": {},
     "output_type": "execute_result"
    }
   ],
   "source": [
    "mystack"
   ]
  },
  {
   "cell_type": "code",
   "execution_count": 7,
   "id": "e560e130",
   "metadata": {},
   "outputs": [
    {
     "name": "stdout",
     "output_type": "stream",
     "text": [
      "스택이 가득찼습니다!\n"
     ]
    }
   ],
   "source": [
    "push(mystack, 2)"
   ]
  },
  {
   "cell_type": "code",
   "execution_count": 8,
   "id": "5cfdf29f",
   "metadata": {},
   "outputs": [
    {
     "data": {
      "text/plain": [
       "7"
      ]
     },
     "execution_count": 8,
     "metadata": {},
     "output_type": "execute_result"
    }
   ],
   "source": [
    "pop(mystack)"
   ]
  },
  {
   "cell_type": "code",
   "execution_count": 9,
   "id": "fc445e16",
   "metadata": {},
   "outputs": [
    {
     "data": {
      "text/plain": [
       "[2, 5, 12]"
      ]
     },
     "execution_count": 9,
     "metadata": {},
     "output_type": "execute_result"
    }
   ],
   "source": [
    "mystack"
   ]
  },
  {
   "cell_type": "markdown",
   "id": "595e9300",
   "metadata": {},
   "source": [
    "### 몸풀기 문제\n",
    "\n",
    "#### 괄호 짝 맞추기\n",
    "- https://school.programmers.co.kr/learn/courses/30/lessons/12909"
   ]
  },
  {
   "cell_type": "code",
   "execution_count": 10,
   "id": "80de8296",
   "metadata": {},
   "outputs": [],
   "source": [
    "def solution(s):\n",
    "    stack = []              # 리스트를 스택 대신. append(), pop() 사용\n",
    "\n",
    "    for c in s:             # 문자열 s를 받아서 단어 c 하나씩 반복\n",
    "        if c == '(':        # 여는 괄호일 때\n",
    "            stack.append(c)\n",
    "        elif c == ')':      # 닫는 괄호일 때\n",
    "            if not stack:   # 스택에 여는 괄호가 없으면 에러!\n",
    "                return False\n",
    "            else:\n",
    "                stack.pop() # 들어있는 (를 빼냄\n",
    "    \n",
    "    if stack:\n",
    "        return False        # 반복이 끝났는데 스택에 뭔가 남아있으면 에러!\n",
    "    else:\n",
    "        return True"
   ]
  },
  {
   "cell_type": "code",
   "execution_count": 11,
   "id": "4ac6eb51",
   "metadata": {},
   "outputs": [
    {
     "data": {
      "text/plain": [
       "True"
      ]
     },
     "execution_count": 11,
     "metadata": {},
     "output_type": "execute_result"
    }
   ],
   "source": [
    "solution('(())()')"
   ]
  },
  {
   "cell_type": "code",
   "execution_count": 12,
   "id": "6932da6d",
   "metadata": {},
   "outputs": [
    {
     "data": {
      "text/plain": [
       "False"
      ]
     },
     "execution_count": 12,
     "metadata": {},
     "output_type": "execute_result"
    }
   ],
   "source": [
    "solution(')()()')"
   ]
  },
  {
   "cell_type": "code",
   "execution_count": 13,
   "id": "e85b514d",
   "metadata": {},
   "outputs": [
    {
     "data": {
      "text/plain": [
       "False"
      ]
     },
     "execution_count": 13,
     "metadata": {},
     "output_type": "execute_result"
    }
   ],
   "source": [
    "solution('((())()')"
   ]
  },
  {
   "cell_type": "code",
   "execution_count": 14,
   "id": "dcc3b776",
   "metadata": {},
   "outputs": [
    {
     "data": {
      "text/plain": [
       "True"
      ]
     },
     "execution_count": 14,
     "metadata": {},
     "output_type": "execute_result"
    }
   ],
   "source": [
    "solution('((())())')"
   ]
  },
  {
   "cell_type": "markdown",
   "id": "aa4b43d5",
   "metadata": {},
   "source": [
    "#### 10진수를 2진수로 변환하기"
   ]
  },
  {
   "cell_type": "code",
   "execution_count": 15,
   "id": "59ae0a5f",
   "metadata": {},
   "outputs": [
    {
     "data": {
      "text/plain": [
       "'0b10000000000'"
      ]
     },
     "execution_count": 15,
     "metadata": {},
     "output_type": "execute_result"
    }
   ],
   "source": [
    "bin(1024)"
   ]
  },
  {
   "cell_type": "code",
   "execution_count": 16,
   "id": "feac5331",
   "metadata": {},
   "outputs": [],
   "source": [
    "def solution(decimal):\n",
    "    stack = []\n",
    "\n",
    "    while decimal > 0:\n",
    "        remainder = decimal % 2         # 2로 나누어서 나머지를 구함\n",
    "        stack.append(str(remainder))    # 남은 나머지를 스택에 추가\n",
    "        decimal //= 2                   # 10진수를 정수 2로 나누어서 수를 조정\n",
    "\n",
    "    answer = \"\"\n",
    "    while stack:\n",
    "        answer += stack.pop()\n",
    "\n",
    "    return answer"
   ]
  },
  {
   "cell_type": "code",
   "execution_count": 17,
   "id": "ee0c7f05",
   "metadata": {},
   "outputs": [
    {
     "data": {
      "text/plain": [
       "'10000000000'"
      ]
     },
     "execution_count": 17,
     "metadata": {},
     "output_type": "execute_result"
    }
   ],
   "source": [
    "solution(1024)"
   ]
  },
  {
   "cell_type": "code",
   "execution_count": 18,
   "id": "496125db",
   "metadata": {},
   "outputs": [
    {
     "data": {
      "text/plain": [
       "'1010'"
      ]
     },
     "execution_count": 18,
     "metadata": {},
     "output_type": "execute_result"
    }
   ],
   "source": [
    "solution(10)"
   ]
  },
  {
   "cell_type": "code",
   "execution_count": 19,
   "id": "37d640b3",
   "metadata": {},
   "outputs": [
    {
     "data": {
      "text/plain": [
       "'11011'"
      ]
     },
     "execution_count": 19,
     "metadata": {},
     "output_type": "execute_result"
    }
   ],
   "source": [
    "solution(27)"
   ]
  },
  {
   "cell_type": "code",
   "execution_count": 20,
   "id": "4de856fc",
   "metadata": {},
   "outputs": [
    {
     "data": {
      "text/plain": [
       "'11000000111001'"
      ]
     },
     "execution_count": 20,
     "metadata": {},
     "output_type": "execute_result"
    }
   ],
   "source": [
    "solution(12345)"
   ]
  },
  {
   "cell_type": "markdown",
   "id": "f6811e33",
   "metadata": {},
   "source": [
    "### 모의 테스트\n",
    "\n",
    "#### 표 편집\n",
    "- https://school.programmers.co.kr/learn/courses/30/lessons/81303"
   ]
  },
  {
   "cell_type": "code",
   "execution_count": 23,
   "id": "1ac2681e",
   "metadata": {},
   "outputs": [],
   "source": [
    "def solution(n, k, cmd):\n",
    "    answer = ''     # 삭제 후 결과를 담을 변수\n",
    "    deleted = []    # 삭제된 행의 인덱스를 담을 변수 (복구할 값)\n",
    "\n",
    "    # 각 행의 위의 인덱스를 저장하는 리스트\n",
    "    # 가상공간을 더 만들어서 처리\n",
    "    # 아래의 가상환경이 조금 문제가 있음. 크게 중요치는 않음\n",
    "\n",
    "    up = [i - 1 for i in range(n + 2)]\n",
    "    print(up)\n",
    "\n",
    "    down = [i + 1 for i in range(n + 1)]\n",
    "    print(down)\n",
    "\n",
    "    # 현재 위치 인덱스(가상공간을 만들었기 때문)\n",
    "    k += 1\n",
    "\n",
    "    # 주어진 cmd 리스트에서 요소별로 커맨드 처리\n",
    "    for cmd_i in cmd:\n",
    "        # print(cmd_i)\n",
    "        # 각 커맨드별로 처리\n",
    "\n",
    "        if cmd_i.startswith('C'):   # 삭제 처리\n",
    "            print('삭제처리!')\n",
    "            deleted.append(k)                       # 현재 행을 삭제. 스택에 추가하는 것은 간단\n",
    "            up[down[k]] = up[k]                     # !! 삭제된 행의 아래쪽 행이 삭제된 행 대신 그 윗 행을 가리키도록 수정\n",
    "            down[up[k]] = down[k]                   # !! 삭제된 행의 위쪽 행이 삭제된 행 대신 그 아랫 행을 가리키도록 수정\n",
    "            k = up[k] if n < down[k] else down[k]   # 삭제되는 행이 마지막행이라서 아래를 선택할 수 없으므로 삭제되는 행의 위의 값으로 대체\n",
    "\n",
    "        elif cmd_i.startswith('Z'): # 복구\n",
    "            print('복구처리!')\n",
    "            restore = deleted.pop()\n",
    "            down[up[restore]] = restore\n",
    "            up[down[restore]] = restore\n",
    "\n",
    "        else:                       # U D는 값이 두 개씩\n",
    "            action, num = cmd_i.split(' ')\n",
    "            if action == 'U':       # 위로\n",
    "                print(f'위로 {int(num)} 이동')\n",
    "                for _ in range(int(num)):\n",
    "                    k = up[k]       # 현재행 인덱스 k가 값이 -1씩 변경\n",
    "            elif action == 'D':     # 아래로\n",
    "                print(f'아래로 {int(num)} 이동')\n",
    "                for _ in range(int(num)):\n",
    "                    k = down[k]\n",
    "                             \n",
    "\n",
    "    print(deleted)\n",
    "\n",
    "    # 삭제된 인덱스를 전체에서 표현\n",
    "    answer = ['0'] * n\n",
    "    for i in deleted:\n",
    "        answer[i - 1] = 'X'\n",
    "    return ''.join(answer)"
   ]
  },
  {
   "cell_type": "code",
   "execution_count": 24,
   "id": "3a4db9f6",
   "metadata": {},
   "outputs": [
    {
     "name": "stdout",
     "output_type": "stream",
     "text": [
      "[-1, 0, 1, 2, 3, 4, 5, 6, 7, 8]\n",
      "[1, 2, 3, 4, 5, 6, 7, 8, 9]\n",
      "아래로 2 이동\n",
      "삭제처리!\n",
      "위로 3 이동\n",
      "삭제처리!\n",
      "아래로 4 이동\n",
      "삭제처리!\n",
      "위로 2 이동\n",
      "복구처리!\n",
      "복구처리!\n",
      "[5]\n"
     ]
    },
    {
     "data": {
      "text/plain": [
       "'0000X000'"
      ]
     },
     "execution_count": 24,
     "metadata": {},
     "output_type": "execute_result"
    }
   ],
   "source": [
    "solution(8, 2, [\"D 2\", \"C\", \"U 3\", \"C\", \"D 4\", \"C\", \"U 2\", \"Z\", \"Z\"])"
   ]
  },
  {
   "cell_type": "code",
   "execution_count": 25,
   "id": "ce16c992",
   "metadata": {},
   "outputs": [
    {
     "name": "stdout",
     "output_type": "stream",
     "text": [
      "[-1, 0, 1, 2, 3, 4, 5, 6, 7, 8]\n",
      "[1, 2, 3, 4, 5, 6, 7, 8, 9]\n",
      "아래로 2 이동\n",
      "삭제처리!\n",
      "위로 3 이동\n",
      "삭제처리!\n",
      "아래로 4 이동\n",
      "삭제처리!\n",
      "위로 2 이동\n",
      "복구처리!\n",
      "복구처리!\n",
      "위로 1 이동\n",
      "삭제처리!\n",
      "[5, 3]\n"
     ]
    },
    {
     "data": {
      "text/plain": [
       "'00X0X000'"
      ]
     },
     "execution_count": 25,
     "metadata": {},
     "output_type": "execute_result"
    }
   ],
   "source": [
    "solution(8, 2, [\"D 2\", \"C\", \"U 3\", \"C\", \"D 4\", \"C\", \"U 2\", \"Z\", \"Z\", \"U 1\", \"C\"])"
   ]
  },
  {
   "cell_type": "markdown",
   "id": "150d5577",
   "metadata": {},
   "source": [
    "- print()는 테스트 케이스까지는 진행에 문제 없으나 효율성 테스트에서 통과 못 함\n",
    "- 실제 제출 후 채점할 때는 print()문 주석처리하고 제출할 것"
   ]
  }
 ],
 "metadata": {
  "kernelspec": {
   "display_name": "3.11.9",
   "language": "python",
   "name": "python3"
  },
  "language_info": {
   "codemirror_mode": {
    "name": "ipython",
    "version": 3
   },
   "file_extension": ".py",
   "mimetype": "text/x-python",
   "name": "python",
   "nbconvert_exporter": "python",
   "pygments_lexer": "ipython3",
   "version": "3.11.9"
  }
 },
 "nbformat": 4,
 "nbformat_minor": 5
}
